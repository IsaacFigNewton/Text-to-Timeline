{
  "nbformat": 4,
  "nbformat_minor": 0,
  "metadata": {
    "colab": {
      "provenance": [],
      "authorship_tag": "ABX9TyMi7fZTMA0g+wfmX1wPjlOY",
      "include_colab_link": true
    },
    "kernelspec": {
      "name": "python3",
      "display_name": "Python 3"
    },
    "language_info": {
      "name": "python"
    }
  },
  "cells": [
    {
      "cell_type": "markdown",
      "metadata": {
        "id": "view-in-github",
        "colab_type": "text"
      },
      "source": [
        "<a href=\"https://colab.research.google.com/github/IsaacFigNewton/Text-to-Timeline/blob/main/Sample_Notebook.ipynb\" target=\"_parent\"><img src=\"https://colab.research.google.com/assets/colab-badge.svg\" alt=\"Open In Colab\"/></a>"
      ]
    },
    {
      "cell_type": "markdown",
      "source": [
        "# Download Packages"
      ],
      "metadata": {
        "id": "IJT9FEyxsQid"
      }
    },
    {
      "cell_type": "code",
      "source": [
        "# Broken libraries I've tried: AllenNLP, Coreferee, neuralcoref, spacy-experimental, stanford-corenlp (only api available)\n",
        "!pip install fastcoref\n",
        "!pip install intervaltree"
      ],
      "metadata": {
        "id": "nAoa3Bses8V8"
      },
      "execution_count": null,
      "outputs": []
    },
    {
      "cell_type": "code",
      "source": [
        "!git clone https://github.com/IsaacFigNewton/Text-to-Timeline.git"
      ],
      "metadata": {
        "id": "_4X1nr3zs3x4"
      },
      "execution_count": null,
      "outputs": []
    },
    {
      "cell_type": "markdown",
      "source": [
        "# Import Libraries"
      ],
      "metadata": {
        "id": "_om-P4RvsTgG"
      }
    },
    {
      "cell_type": "code",
      "source": [
        "import sys\n",
        "import os\n",
        "import json\n",
        "import spacy\n",
        "import networkx as nx\n",
        "import matplotlib.pyplot as plt"
      ],
      "metadata": {
        "id": "GrwvI-sKtb1_"
      },
      "execution_count": null,
      "outputs": []
    },
    {
      "cell_type": "code",
      "source": [
        "from fastcoref import FCoref, spacy_component"
      ],
      "metadata": {
        "id": "n8044QpLtc7s"
      },
      "execution_count": null,
      "outputs": []
    },
    {
      "cell_type": "code",
      "source": [
        "# Add the timeline reconstruction modules directory to the Python path\n",
        "module_path = os.path.abspath('./Text-to-Timeline/modules')\n",
        "if module_path not in sys.path:\n",
        "    sys.path.append(module_path)\n",
        "\n",
        "from pipeline import *\n",
        "from utils import plot_graph_from_edge_list"
      ],
      "metadata": {
        "id": "8dmQkRwGvYCc"
      },
      "execution_count": null,
      "outputs": []
    },
    {
      "cell_type": "code",
      "execution_count": null,
      "metadata": {
        "id": "IjYeLBL5sO--"
      },
      "outputs": [],
      "source": [
        "default_nlp_model = spacy.load(\"en_core_web_sm\")\n",
        "\n",
        "fastcoref_model = FCoref()\n",
        "\n",
        "coref_resolution_model = spacy.load(\"en_core_web_sm\", exclude=[\"parser\", \"lemmatizer\", \"ner\", \"textcat\"])\n",
        "coref_resolution_model.add_pipe(\"fastcoref\")"
      ]
    },
    {
      "cell_type": "markdown",
      "source": [
        "# Config"
      ],
      "metadata": {
        "id": "YpmamYzfudaS"
      }
    },
    {
      "cell_type": "code",
      "source": [
        "tests = [\n",
        "    \"The frog jumped over the goose. Mr. Holmes is gay. Then the frog fell into the abyss. The goose followed the frog into the abyss and after that ate a different frog.\",\n",
        "    # \"Although he was very busy with his work, Peter had had enough of it. He and his wife decided they needed a holiday. They travelled to Spain because they loved the country very much.\",\n",
        "    # \"John met Paul after he finished work. He suggested they grab a drink.\",\n",
        "    # \"The book was on the table when Sarah handed it to Mary. She smiled and thanked her.\",\n",
        "    # \"Tom told Jerry that he had failed the exam.\",\n",
        "    # \"The city council refused the demonstrators a permit because they feared violence.\",\n",
        "    # \"Anna told Lucy that her idea was brilliant.\",\n",
        "    # \"The scientist interviewed the assistant while she was setting up the experiment.\",\n",
        "    # \"After the dog bit the man, he ran away.\",\n",
        "    # \"The mechanic fixed the car while it was raining. He was soaked by the end.\",\n",
        "    # \"David thanked Michael after his birthday party.\",\n",
        "    # \"Karen lent her book to Julie because she needed it for class.\"\n",
        "]"
      ],
      "metadata": {
        "id": "clXXTVXbtIqc"
      },
      "execution_count": null,
      "outputs": []
    },
    {
      "cell_type": "code",
      "source": [
        "default_nlp_model = spacy.load(\"en_core_web_sm\")\n",
        "\n",
        "fastcoref_model = FCoref()\n",
        "\n",
        "coref_resolution_model = spacy.load(\"en_core_web_sm\", exclude=[\"parser\", \"lemmatizer\", \"ner\", \"textcat\"])\n",
        "coref_resolution_model.add_pipe(\"fastcoref\")"
      ],
      "metadata": {
        "id": "409g17KIvvbU"
      },
      "execution_count": null,
      "outputs": []
    },
    {
      "cell_type": "markdown",
      "source": [
        "# Helper functions"
      ],
      "metadata": {
        "id": "MBzeuYBKtDQ8"
      }
    },
    {
      "cell_type": "code",
      "source": [
        "def run_tests(texts:str):\n",
        "  ambiguated_texts = [[t, None] for t in texts]\n",
        "  ambiguated_test = None\n",
        "\n",
        "  for i in range(len(texts)):\n",
        "    _, ambiguated_test = ambiguate_text(texts[i])\n",
        "    ambiguated_texts[i][1] = ambiguated_test\n",
        "\n",
        "  for test in ambiguated_texts:\n",
        "    print(f\"original:\\n{test[0]}\")\n",
        "    print(f\"disambiguated:\\n{test[1]}\")\n",
        "    # print()"
      ],
      "metadata": {
        "id": "fANe3iHKstCs"
      },
      "execution_count": null,
      "outputs": []
    },
    {
      "cell_type": "markdown",
      "source": [
        "# Tests"
      ],
      "metadata": {
        "id": "GOWxBpqatFks"
      }
    },
    {
      "cell_type": "code",
      "source": [
        "test_infos = []\n",
        "for test in tests:\n",
        "  test_info = get_text_info_json(text=test,\n",
        "                                 nlp_model=default_nlp_model,\n",
        "                                 fastcoref_model=fastcoref_model,\n",
        "                                 coref_resolution_model=coref_resolution_model)\n",
        "  test_infos.append(test_info)"
      ],
      "metadata": {
        "id": "iTtmRJMKtGaU"
      },
      "execution_count": null,
      "outputs": []
    },
    {
      "cell_type": "code",
      "source": [
        "plot_graph_from_edge_list(test_infos[0][\"edges\"])"
      ],
      "metadata": {
        "id": "Iol60ALmuES6"
      },
      "execution_count": null,
      "outputs": []
    },
    {
      "cell_type": "code",
      "source": [],
      "metadata": {
        "id": "OJ6xVGdSv8f7"
      },
      "execution_count": null,
      "outputs": []
    }
  ]
}