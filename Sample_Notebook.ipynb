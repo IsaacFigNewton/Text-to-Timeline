{
  "nbformat": 4,
  "nbformat_minor": 0,
  "metadata": {
    "colab": {
      "provenance": [],
      "collapsed_sections": [
        "IJT9FEyxsQid",
        "_om-P4RvsTgG"
      ],
      "authorship_tag": "ABX9TyNlPGmvvTZqxFYQiY0puL2m",
      "include_colab_link": true
    },
    "kernelspec": {
      "name": "python3",
      "display_name": "Python 3"
    },
    "language_info": {
      "name": "python"
    }
  },
  "cells": [
    {
      "cell_type": "markdown",
      "metadata": {
        "id": "view-in-github",
        "colab_type": "text"
      },
      "source": [
        "<a href=\"https://colab.research.google.com/github/IsaacFigNewton/Text-to-Timeline/blob/main/Sample_Notebook.ipynb\" target=\"_parent\"><img src=\"https://colab.research.google.com/assets/colab-badge.svg\" alt=\"Open In Colab\"/></a>"
      ]
    },
    {
      "cell_type": "markdown",
      "source": [
        "# Download Packages"
      ],
      "metadata": {
        "id": "IJT9FEyxsQid"
      }
    },
    {
      "cell_type": "code",
      "source": [
        "import nltk\n",
        "nltk.download('wordnet')\n",
        "nltk.download('stopwords')"
      ],
      "metadata": {
        "id": "Z0i-0IT2lfO3"
      },
      "execution_count": null,
      "outputs": []
    },
    {
      "cell_type": "code",
      "source": [
        "# Broken libraries I've tried: AllenNLP, Coreferee, neuralcoref, spacy-experimental, stanford-corenlp (only api available)\n",
        "!pip install fastcoref\n",
        "!pip install intervaltree\n",
        "!pip install rdflib flufl.enum"
      ],
      "metadata": {
        "id": "nAoa3Bses8V8"
      },
      "execution_count": null,
      "outputs": []
    },
    {
      "cell_type": "code",
      "source": [
        "!git clone https://github.com/IsaacFigNewton/Text-to-Timeline.git\n",
        "!wget https://raw.githubusercontent.com/IsaacFigNewton/fredlib-updated/refs/heads/main/fredlib.py"
      ],
      "metadata": {
        "id": "_4X1nr3zs3x4"
      },
      "execution_count": null,
      "outputs": []
    },
    {
      "cell_type": "markdown",
      "source": [
        "# Import Libraries"
      ],
      "metadata": {
        "id": "_om-P4RvsTgG"
      }
    },
    {
      "cell_type": "code",
      "source": [
        "import sys\n",
        "import os\n",
        "import json\n",
        "import spacy\n",
        "import networkx as nx\n",
        "import matplotlib.pyplot as plt"
      ],
      "metadata": {
        "id": "GrwvI-sKtb1_"
      },
      "execution_count": null,
      "outputs": []
    },
    {
      "cell_type": "code",
      "source": [
        "import math\n",
        "import string\n",
        "import numpy as np\n",
        "import requests\n",
        "import json\n",
        "import pandas as pd\n",
        "import collections\n",
        "import pprint\n",
        "\n",
        "import networkx as nx\n",
        "from networkx import Graph as NXGraph\n",
        "import matplotlib.pyplot as plt\n",
        "import statistics\n",
        "import collections\n",
        "\n",
        "import fredlib as fred\n",
        "from rdflib import Graph as RDFGraph\n",
        "from rdflib.extras.external_graph_libs import rdflib_to_networkx_graph\n",
        "\n",
        "from collections import defaultdict, deque\n",
        "from intervaltree import IntervalTree\n",
        "from intervaltree import Interval as ITInterval\n",
        "\n",
        "from nltk.corpus import stopwords\n",
        "from fastcoref import FCoref, spacy_component\n",
        "from fastcoref_coref_resolution import resolve_text"
      ],
      "metadata": {
        "id": "SuNZJSj1ktOU"
      },
      "execution_count": null,
      "outputs": []
    },
    {
      "cell_type": "code",
      "source": [
        "# Add the timeline reconstruction modules directory to the Python path\n",
        "module_path = os.path.abspath('./Text-to-Timeline/modules')\n",
        "if module_path not in sys.path:\n",
        "    sys.path.append(module_path)\n",
        "\n",
        "from pipeline import *\n",
        "from utils import *\n",
        "from clean_rdf_graph import *\n",
        "from timeline_construction import get_timeline"
      ],
      "metadata": {
        "id": "8dmQkRwGvYCc"
      },
      "execution_count": null,
      "outputs": []
    },
    {
      "cell_type": "code",
      "source": [
        "from google.colab import userdata\n",
        "fred_api_key = userdata.get(\"fred_api\")"
      ],
      "metadata": {
        "id": "xJ2rZ_PRlHGp"
      },
      "execution_count": null,
      "outputs": []
    },
    {
      "cell_type": "code",
      "source": [
        "file_prefix = \"test_\"\n",
        "rdf_temp_prefix = \"boxer.owl: temp_\"\n",
        "stop_words = stopwords.words('english')"
      ],
      "metadata": {
        "id": "eSDLdAQ5lJUB"
      },
      "execution_count": null,
      "outputs": []
    },
    {
      "cell_type": "markdown",
      "source": [
        "# Config"
      ],
      "metadata": {
        "id": "YpmamYzfudaS"
      }
    },
    {
      "cell_type": "code",
      "source": [
        "tests = [\n",
        "    \"The frog jumped over the goose. Mr. Holmes is gay. Then the frog fell into the abyss. The goose followed the frog into the abyss and after that ate a different frog.\",\n",
        "    # \"Although he was very busy with his work, Peter had had enough of it. He and his wife decided they needed a holiday. They travelled to Spain because they loved the country very much.\",\n",
        "    # \"John met Paul after he finished work. He suggested they grab a drink.\",\n",
        "    # \"The book was on the table when Sarah handed it to Mary. She smiled and thanked her.\",\n",
        "    # \"Tom told Jerry that he had failed the exam.\",\n",
        "    # \"The city council refused the demonstrators a permit because they feared violence.\",\n",
        "    # \"Anna told Lucy that her idea was brilliant.\",\n",
        "    # \"The scientist interviewed the assistant while she was setting up the experiment.\",\n",
        "    # \"After the dog bit the man, he ran away.\",\n",
        "    # \"The mechanic fixed the car while it was raining. He was soaked by the end.\",\n",
        "    # \"David thanked Michael after his birthday party.\",\n",
        "    # \"Karen lent her book to Julie because she needed it for class.\"\n",
        "]"
      ],
      "metadata": {
        "id": "clXXTVXbtIqc"
      },
      "execution_count": null,
      "outputs": []
    },
    {
      "cell_type": "code",
      "source": [
        "default_nlp_model = spacy.load(\"en_core_web_sm\")\n",
        "\n",
        "fastcoref_model = FCoref()\n",
        "\n",
        "coref_resolution_model = spacy.load(\"en_core_web_sm\", exclude=[\"parser\", \"lemmatizer\", \"ner\", \"textcat\"])\n",
        "coref_resolution_model.add_pipe(\"fastcoref\")"
      ],
      "metadata": {
        "id": "409g17KIvvbU"
      },
      "execution_count": null,
      "outputs": []
    },
    {
      "cell_type": "code",
      "source": [
        "with open('./Text-to-Timeline/maps/tags.json', 'r', encoding='utf-8') as f:\n",
        "    all_tags = json.load(f)\n",
        "rel_pos_tags = all_tags[\"rel_pos_tags\"]\n",
        "with open('./Text-to-Timeline/maps/temporal_relations/allen_intervals.json', 'r', encoding='utf-8') as f:\n",
        "    temporal_relations_map = json.load(f)\n",
        "temporal_relations_map = {k: (v.get(\"start\"), v.get(\"end\")) for k, v in temporal_relations_map.items()}\n",
        "with open('./Text-to-Timeline/maps/temporal_relations/predicate_map.json', 'r', encoding='utf-8') as f:\n",
        "    TEMPORAL_PREDICATE_MAP = json.load(f)"
      ],
      "metadata": {
        "id": "gEvNm5SsmKXo"
      },
      "execution_count": null,
      "outputs": []
    },
    {
      "cell_type": "markdown",
      "source": [
        "# Test entity relation extraction, ambiguation"
      ],
      "metadata": {
        "id": "CW_pgTF_ZPzd"
      }
    },
    {
      "cell_type": "code",
      "source": [
        "test_infos = []\n",
        "for test in tests:\n",
        "  test_info = get_text_info_json(text=test,\n",
        "                                 nlp_model=default_nlp_model,\n",
        "                                 fastcoref_model=fastcoref_model,\n",
        "                                 coref_resolution_model=coref_resolution_model)\n",
        "  test_infos.append(test_info)"
      ],
      "metadata": {
        "id": "iTtmRJMKtGaU"
      },
      "execution_count": null,
      "outputs": []
    },
    {
      "cell_type": "code",
      "source": [
        "plot_graph_from_edge_list(test_infos[0][\"edges\"])"
      ],
      "metadata": {
        "id": "Iol60ALmuES6"
      },
      "execution_count": null,
      "outputs": []
    },
    {
      "cell_type": "code",
      "source": [
        "test_infos[0][\"ambiguated\"]"
      ],
      "metadata": {
        "id": "OJ6xVGdSv8f7"
      },
      "execution_count": null,
      "outputs": []
    },
    {
      "cell_type": "markdown",
      "source": [
        "# Test FRED Timeline Extraction"
      ],
      "metadata": {
        "id": "g_r-NJhGZWZK"
      }
    },
    {
      "cell_type": "code",
      "source": [
        "test_0 = resolve_text(\n",
        "    tests[0],\n",
        "    coref_resolution_model=coref_resolution_model\n",
        ")\n",
        "G0 = get_fred_nx_digraph(test_0, \"test_0.rdf\", fred_api_key)\n",
        "propagate_types(G0)\n",
        "\n",
        "prune_subgraph_types(\n",
        "    g=G0,\n",
        "    node_types_to_drop={\n",
        "      \"org#ont#framenet#abox#frame:\",\n",
        "      \"owl: Theme\",\n",
        "      \"owl: Cotheme\"\n",
        "    },\n",
        "    edge_types_to_drop={\n",
        "      'owl: equivalentClass',\n",
        "      'owl: hasDeterminer',\n",
        "      'owl: differentFrom',\n",
        "      'cotheme'\n",
        "    }\n",
        ")\n",
        "\n",
        "G0 = disambiguate_predicates(G0,\n",
        "                             predicate_map=TEMPORAL_PREDICATE_MAP,\n",
        "                             prefix=rdf_temp_prefix)"
      ],
      "metadata": {
        "id": "dioTeleqqKmp"
      },
      "execution_count": null,
      "outputs": []
    },
    {
      "cell_type": "code",
      "source": [
        "timeline = get_timeline(\n",
        "    g=G0,\n",
        "    drop_event_edges=False,\n",
        "    rel_pos_tags=rel_pos_tags,\n",
        "    temporal_relations_map=temporal_relations_map,\n",
        "    prefix=rdf_temp_prefix\n",
        ")\n",
        "\n",
        "plot_interval_tree(timeline, grid=False)"
      ],
      "metadata": {
        "id": "LhQrS9NprGmp"
      },
      "execution_count": null,
      "outputs": []
    },
    {
      "cell_type": "code",
      "source": [
        "test_0"
      ],
      "metadata": {
        "id": "gzQOX1YUw3GY"
      },
      "execution_count": null,
      "outputs": []
    }
  ]
}